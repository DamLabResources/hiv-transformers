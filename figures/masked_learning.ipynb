{
 "cells": [
  {
   "cell_type": "code",
   "execution_count": 1,
   "id": "4daf2888-e7d2-4600-819e-5821adf6f857",
   "metadata": {},
   "outputs": [],
   "source": [
    "import os\n",
    "import datasets\n",
    "import matplotlib.pyplot as plt\n",
    "import numpy as np\n",
    "import pandas as pd\n",
    "import seaborn as sns\n",
    "import sys\n",
    "from itertools import islice\n",
    "from consts import MODEL_CMAP, FULL_WIDTH_FIGSIZE\n",
    "\n",
    "sys.path.append(\"../workflow/scripts\")\n",
    "from common import spacify_aa, tokenize_function_factory\n",
    "\n",
    "os.environ[\"CUDA_VISIBLE_DEVICES\"] = \"0\"\n",
    "plt.style.use(\"mike.mplstyle\")"
   ]
  },
  {
   "cell_type": "code",
   "execution_count": 2,
   "id": "110e5499-06e1-44ce-a494-4038d790ca2e",
   "metadata": {},
   "outputs": [],
   "source": [
    "dataset_root = \"../datasets/\"\n",
    "coreceptor_dset = datasets.Dataset.load_from_disk(dataset_root + \"V3_coreceptor\")"
   ]
  },
  {
   "cell_type": "code",
   "execution_count": 3,
   "id": "194324e2-06cb-44e7-9ad3-1a51a9a5b9f4",
   "metadata": {},
   "outputs": [
    {
     "data": {
      "text/html": [
       "<div>\n",
       "<style scoped>\n",
       "    .dataframe tbody tr th:only-of-type {\n",
       "        vertical-align: middle;\n",
       "    }\n",
       "\n",
       "    .dataframe tbody tr th {\n",
       "        vertical-align: top;\n",
       "    }\n",
       "\n",
       "    .dataframe thead th {\n",
       "        text-align: right;\n",
       "    }\n",
       "</style>\n",
       "<table border=\"1\" class=\"dataframe\">\n",
       "  <thead>\n",
       "    <tr style=\"text-align: right;\">\n",
       "      <th></th>\n",
       "      <th>sequence</th>\n",
       "      <th>id</th>\n",
       "      <th>CXCR4</th>\n",
       "      <th>CCR5</th>\n",
       "      <th>fold</th>\n",
       "    </tr>\n",
       "  </thead>\n",
       "  <tbody>\n",
       "    <tr>\n",
       "      <th>0</th>\n",
       "      <td>CARPFYAIERQKTPIGQGQVLYTTKKIGRIGQAHC</td>\n",
       "      <td>U08806</td>\n",
       "      <td>True</td>\n",
       "      <td>False</td>\n",
       "      <td>3</td>\n",
       "    </tr>\n",
       "    <tr>\n",
       "      <th>1</th>\n",
       "      <td>CARPFYAIERQRTPIGQGQVLYTTKKIGRIGQAHC</td>\n",
       "      <td>U08734</td>\n",
       "      <td>True</td>\n",
       "      <td>False</td>\n",
       "      <td>4</td>\n",
       "    </tr>\n",
       "    <tr>\n",
       "      <th>2</th>\n",
       "      <td>CARPFYAIERQXTPIGQGQVLYTTKKIGRIGQAHC</td>\n",
       "      <td>AY669759</td>\n",
       "      <td>True</td>\n",
       "      <td>False</td>\n",
       "      <td>4</td>\n",
       "    </tr>\n",
       "    <tr>\n",
       "      <th>3</th>\n",
       "      <td>CARPGNKTRQSIRIHRGPGRAFYTTKATGDIRKAQC</td>\n",
       "      <td>MZ147126</td>\n",
       "      <td>True</td>\n",
       "      <td>False</td>\n",
       "      <td>0</td>\n",
       "    </tr>\n",
       "    <tr>\n",
       "      <th>4</th>\n",
       "      <td>CARPGNKTRQSIRIHRGPGRAFYTTNAGDIRKAHC</td>\n",
       "      <td>MZ147128</td>\n",
       "      <td>True</td>\n",
       "      <td>False</td>\n",
       "      <td>1</td>\n",
       "    </tr>\n",
       "  </tbody>\n",
       "</table>\n",
       "</div>"
      ],
      "text/plain": [
       "                               sequence        id  CXCR4   CCR5  fold\n",
       "0   CARPFYAIERQKTPIGQGQVLYTTKKIGRIGQAHC    U08806   True  False     3\n",
       "1   CARPFYAIERQRTPIGQGQVLYTTKKIGRIGQAHC    U08734   True  False     4\n",
       "2   CARPFYAIERQXTPIGQGQVLYTTKKIGRIGQAHC  AY669759   True  False     4\n",
       "3  CARPGNKTRQSIRIHRGPGRAFYTTKATGDIRKAQC  MZ147126   True  False     0\n",
       "4   CARPGNKTRQSIRIHRGPGRAFYTTNAGDIRKAHC  MZ147128   True  False     1"
      ]
     },
     "execution_count": 3,
     "metadata": {},
     "output_type": "execute_result"
    }
   ],
   "source": [
    "co_df = pd.DataFrame(coreceptor_dset)\n",
    "co_df.head()"
   ]
  },
  {
   "cell_type": "code",
   "execution_count": 4,
   "id": "f736a3fd-88f6-4783-94a1-b98674033117",
   "metadata": {},
   "outputs": [],
   "source": [
    "from collections import defaultdict\n",
    "\n",
    "aa_order = list(\"IVL*FYWH*KRDE*GACS*TMQNP\")\n",
    "\n",
    "pos_counts = defaultdict(lambda: defaultdict(int))\n",
    "\n",
    "for _, row in co_df.iterrows():\n",
    "    for p, aa in enumerate(row[\"sequence\"]):\n",
    "        if aa != \"*\":\n",
    "            pos_counts[p][aa] += 1\n",
    "obs = pd.DataFrame(pos_counts)\n",
    "const = 1e-8\n",
    "obs = obs.fillna(0.1).apply(lambda col: logit(np.clip(col / col.sum(), const, None)))\n",
    "obs = obs.reindex(aa_order, axis=0)"
   ]
  },
  {
   "cell_type": "code",
   "execution_count": 5,
   "id": "f4391de0-ea37-43fb-b6c9-f5205d87220d",
   "metadata": {},
   "outputs": [
    {
     "name": "stdout",
     "output_type": "stream",
     "text": [
      "CTRPNNNTRKSIHIGPGRAFYTTGEIIGDIRQAHC\n"
     ]
    }
   ],
   "source": [
    "consensus = list(\"CTRPNNNTRKSIHIGPGRAFYTTGEIIGDIRQAHC\")\n",
    "print(\"\".join(consensus))"
   ]
  },
  {
   "cell_type": "code",
   "execution_count": 6,
   "id": "3091e141-6205-4449-89c6-df10af42818e",
   "metadata": {},
   "outputs": [],
   "source": [
    "from transformers import (\n",
    "    AutoModelForMaskedLM,\n",
    "    AutoTokenizer,\n",
    "    DataCollatorForLanguageModeling,\n",
    "    Trainer,\n",
    ")\n",
    "\n",
    "tokenizer = AutoTokenizer.from_pretrained(\"Rostlab/prot_bert_bfd\")\n",
    "token_order = tokenizer.decode(range(30)).split(\" \")"
   ]
  },
  {
   "cell_type": "code",
   "execution_count": 7,
   "id": "71bf819b-3e6d-411c-a7c7-ad68549ac76a",
   "metadata": {},
   "outputs": [],
   "source": [
    "targets = []\n",
    "for pos in range(len(consensus)):\n",
    "    masked = consensus[:pos] + [tokenizer.mask_token] + consensus[pos + 1 :]\n",
    "    targets.append(\" \".join(masked))\n",
    "\n",
    "inputs = tokenizer(targets, return_tensors=\"pt\").to(\"cuda\")"
   ]
  },
  {
   "cell_type": "code",
   "execution_count": 8,
   "id": "fa022307-e514-44a6-888b-07724d1d90b1",
   "metadata": {},
   "outputs": [
    {
     "name": "stderr",
     "output_type": "stream",
     "text": [
      "Some weights of the model checkpoint at Rostlab/prot_bert_bfd were not used when initializing BertForMaskedLM: ['cls.seq_relationship.bias', 'cls.seq_relationship.weight']\n",
      "- This IS expected if you are initializing BertForMaskedLM from the checkpoint of a model trained on another task or with another architecture (e.g. initializing a BertForSequenceClassification model from a BertForPreTraining model).\n",
      "- This IS NOT expected if you are initializing BertForMaskedLM from the checkpoint of a model that you expect to be exactly identical (initializing a BertForSequenceClassification model from a BertForSequenceClassification model).\n"
     ]
    }
   ],
   "source": [
    "protbert = AutoModelForMaskedLM.from_pretrained(\"Rostlab/prot_bert_bfd\").to(\"cuda\")\n",
    "hivbert = AutoModelForMaskedLM.from_pretrained(\"../models/hivbert_genome\").to(\"cuda\")"
   ]
  },
  {
   "cell_type": "code",
   "execution_count": 9,
   "id": "fb8312ed-ecbc-4473-8059-46490f08abe7",
   "metadata": {},
   "outputs": [],
   "source": [
    "protbert_logits = protbert(**inputs)\n",
    "hivbert_logits = hivbert(**inputs)"
   ]
  },
  {
   "cell_type": "code",
   "execution_count": 10,
   "id": "585046d0-574a-46cd-9568-10fec2aeac05",
   "metadata": {},
   "outputs": [],
   "source": [
    "protbert_res = {}\n",
    "hivbert_res = {}\n",
    "for n in range(len(targets)):\n",
    "    # n+1 index because of the added start token\n",
    "    protbert_res[n] = protbert_logits[0][n][n + 1, :].to(\"cpu\").detach().numpy()\n",
    "    hivbert_res[n] = hivbert_logits[0][n][n + 1, :].to(\"cpu\").detach().numpy()\n",
    "\n",
    "hivbert_res = pd.DataFrame(hivbert_res, index=token_order).reindex(aa_order, axis=0)\n",
    "protbert_res = pd.DataFrame(protbert_res, index=token_order).reindex(aa_order, axis=0)"
   ]
  },
  {
   "cell_type": "code",
   "execution_count": 11,
   "id": "9eebeeda-6d05-4d60-ae8c-125347c35410",
   "metadata": {},
   "outputs": [],
   "source": [
    "hivbert_cons = {}\n",
    "protbert_cons = {}\n",
    "obs_cons = {}\n",
    "for n, aa in enumerate(consensus):\n",
    "    try:\n",
    "        hivbert_cons[n] = hivbert_res.loc[aa, n]\n",
    "        protbert_cons[n] = protbert_res.loc[aa, n]\n",
    "        obs_cons[n] = obs.loc[aa, n]\n",
    "    except KeyError:\n",
    "        continue\n",
    "\n",
    "cons_logit = pd.DataFrame(\n",
    "    {\"observed\": obs_cons, \"Prot-BERT\": protbert_cons, 'HIV-BERT': hivbert_cons}\n",
    ")"
   ]
  },
  {
   "cell_type": "code",
   "execution_count": 12,
   "id": "1b2a6905-9b8e-4632-b4d0-046a1d9dd152",
   "metadata": {},
   "outputs": [
    {
     "name": "stdout",
     "output_type": "stream",
     "text": [
      "CTRPNNNTRKSIHIGPGRAFYTTGEIIGDIRQAHC\n",
      "CTRPNNNTRKSIHIGPGRAFYTTGGIIGNIRQAHC\n",
      "CTRPNNNTRKSIHIGPGRAFYATGEIIGDIRQAHC\n"
     ]
    }
   ],
   "source": [
    "protbert_seq = \"\".join(protbert_res.idxmax())\n",
    "hivbert_seq = \"\".join(hivbert_res.idxmax())\n",
    "print(\"\".join(consensus))\n",
    "print(protbert_seq)\n",
    "print(hivbert_seq)"
   ]
  },
  {
   "cell_type": "code",
   "execution_count": 13,
   "id": "7d361dfb-a33f-4cc6-91da-14a7a16f77ea",
   "metadata": {},
   "outputs": [
    {
     "data": {
      "image/png": "[encoded data removed]",
      "text/plain": [
       "<Figure size 504x288 with 1 Axes>"
      ]
     },
     "metadata": {
      "needs_background": "light"
     },
     "output_type": "display_data"
    }
   ],
   "source": [
    "prob_ticks = [\n",
    "    1 / 100000,\n",
    "    1 / 10000,\n",
    "    1 / 1000,\n",
    "    1 / 100,\n",
    "    1 / 10,\n",
    "    1 / 2,\n",
    "    9 / 10,\n",
    "    99 / 100,\n",
    "    999 / 1000,\n",
    "    9999 / 10000,\n",
    "    99999 / 100000,\n",
    "]\n",
    "ticks = logit(prob_ticks)\n",
    "\n",
    "model_colors = sns.color_palette(MODEL_CMAP)[2:4]\n",
    "\n",
    "fig, cons_ax = plt.subplots(1, 1, figsize=FULL_WIDTH_FIGSIZE)\n",
    "\n",
    "cons_logit[['Prot-BERT', 'HIV-BERT']].plot(\n",
    "    kind=\"bar\", ax=cons_ax, color=model_colors,\n",
    "    width = 0.8\n",
    ")\n",
    "cons_ax.set_xticklabels(consensus, rotation=0)\n",
    "cons_ax.legend(title = 'Model', loc = 'upper left', bbox_to_anchor=(0.5, 1.1))\n",
    "cons_ax.set_yticks(ticks[5:])\n",
    "cons_ax.set_yticklabels(prob_ticks[5:])\n",
    "cons_ax.set_ylabel(\"Masked Prediction\")\n",
    "cons_ax.set_xlabel(\"Subtype B Consensus\")\n",
    "sns.despine(ax=cons_ax)\n",
    "\n",
    "fig.tight_layout()"
   ]
  },
  {
   "cell_type": "code",
   "execution_count": 14,
   "id": "90fa4042-f4e7-400a-b7fd-31b49c9c7bfb",
   "metadata": {},
   "outputs": [],
   "source": [
    "try:\n",
    "    fig.savefig(str(snakemake.output['masked_results']), dpi=300)\n",
    "except NameError:\n",
    "    fig.savefig(\"Fig5-masked_results-high.png\", dpi=300)"
   ]
  },
  {
   "cell_type": "code",
   "execution_count": 15,
   "id": "9a8eb32d-87b7-42eb-948e-5987c79533c1",
   "metadata": {},
   "outputs": [],
   "source": [
    "targets = [\"GagPol\", \"Vif\", \"Vpr\", \"Tat\", \"Rev\", \"Vpu\", \"Env\", \"Nef\"]\n",
    "\n",
    "\n",
    "def flatten_prots(examples):\n",
    "    for p in targets:\n",
    "        for prot in examples[p]:\n",
    "            for aa in prot:\n",
    "                yield aa\n",
    "\n",
    "\n",
    "def chunkify(it, max_size):\n",
    "    items = list(islice(it, max_size))\n",
    "    while items:\n",
    "        yield items\n",
    "        items = list(islice(it, max_size))\n",
    "\n",
    "\n",
    "def chunk_proteins(examples):\n",
    "    chunks = chunkify(flatten_prots(examples), 128)\n",
    "    return {\"sequence\": [\"\".join(c) for c in chunks]}"
   ]
  },
  {
   "cell_type": "code",
   "execution_count": 16,
   "id": "a17816ec-eb52-4342-a393-e8cd50bd1438",
   "metadata": {},
   "outputs": [
    {
     "name": "stderr",
     "output_type": "stream",
     "text": [
      "Loading cached processed dataset at ../datasets/FLT_genome/cache-a67eee89264482cd.arrow\n",
      "Loading cached processed dataset at ../datasets/FLT_genome/cache-9de43ff1d1f42875.arrow\n",
      "Loading cached processed dataset at ../datasets/FLT_genome/cache-7f344299df0ea7c6.arrow\n",
      "Loading cached split indices for dataset at ../datasets/FLT_genome/cache-2648a141a7909aa8.arrow and ../datasets/FLT_genome/cache-4904e7282fa76269.arrow\n"
     ]
    }
   ],
   "source": [
    "dataset = datasets.Dataset.load_from_disk(dataset_root + \"FLT_genome\")\n",
    "\n",
    "chunked_set = dataset.map(\n",
    "    chunk_proteins, remove_columns=dataset.column_names, batched=True\n",
    ")\n",
    "\n",
    "tkn_func = tokenize_function_factory(tokenizer=tokenizer, max_length=128)\n",
    "\n",
    "tokenized_dataset = chunked_set.map(spacify_aa).map(tkn_func, batched=True)\n",
    "split_dataset = tokenized_dataset.train_test_split()"
   ]
  },
  {
   "cell_type": "code",
   "execution_count": 17,
   "id": "6878ef5b-aeba-4dac-9372-69923268f896",
   "metadata": {},
   "outputs": [],
   "source": [
    "data_collator = DataCollatorForLanguageModeling(\n",
    "    tokenizer=tokenizer, mlm_probability=0.15, pad_to_multiple_of=8,\n",
    ")"
   ]
  },
  {
   "cell_type": "code",
   "execution_count": 18,
   "id": "48e30f20-e303-4245-b514-94b4610b5d0f",
   "metadata": {},
   "outputs": [],
   "source": [
    "protbert_trainer = Trainer(\n",
    "    model=protbert,\n",
    "    train_dataset=split_dataset[\"train\"],\n",
    "    eval_dataset=split_dataset[\"test\"],\n",
    "    data_collator=data_collator,\n",
    ")"
   ]
  },
  {
   "cell_type": "code",
   "execution_count": 19,
   "id": "740e64b7-a239-43ca-b238-2ae2b3ebf0bd",
   "metadata": {},
   "outputs": [
    {
     "name": "stderr",
     "output_type": "stream",
     "text": [
      "The following columns in the evaluation set  don't have a corresponding argument in `BertForMaskedLM.forward` and have been ignored: sentence, sequence.\n",
      "***** Running Evaluation *****\n",
      "  Num examples = 7540\n",
      "  Batch size = 8\n"
     ]
    },
    {
     "data": {
      "text/html": [
       "\n",
       "    <div>\n",
       "      \n",
       "      <progress value='943' max='943' style='width:300px; height:20px; vertical-align: middle;'></progress>\n",
       "      [943/943 02:04]\n",
       "    </div>\n",
       "    "
      ],
      "text/plain": [
       "<IPython.core.display.HTML object>"
      ]
     },
     "metadata": {},
     "output_type": "display_data"
    },
    {
     "data": {
      "text/plain": [
       "{'eval_loss': 1.8521382808685303,\n",
       " 'eval_runtime': 124.7162,\n",
       " 'eval_samples_per_second': 60.457,\n",
       " 'eval_steps_per_second': 7.561}"
      ]
     },
     "execution_count": 19,
     "metadata": {},
     "output_type": "execute_result"
    }
   ],
   "source": [
    "protbert_trainer.evaluate()"
   ]
  },
  {
   "cell_type": "code",
   "execution_count": 20,
   "id": "ce2b3fb1-2b8c-43f7-8f76-18fd9c70e85e",
   "metadata": {},
   "outputs": [
    {
     "name": "stderr",
     "output_type": "stream",
     "text": [
      "No `TrainingArguments` passed, using `output_dir=tmp_trainer`.\n",
      "PyTorch: setting up devices\n",
      "The default value for the training argument `--report_to` will change in v5 (from all installed integrations to none). In v5, you will need to use `--report_to all` to get the same behavior as now. You should start updating your code and make this info disappear :-).\n"
     ]
    }
   ],
   "source": [
    "hivbert_trainer = Trainer(\n",
    "    model=hivbert,\n",
    "    train_dataset=split_dataset[\"train\"],\n",
    "    eval_dataset=split_dataset[\"test\"],\n",
    "    data_collator=data_collator,\n",
    ")"
   ]
  },
  {
   "cell_type": "code",
   "execution_count": 21,
   "id": "66ce2fc7-395a-4d9f-b9d0-39e59e975578",
   "metadata": {},
   "outputs": [
    {
     "name": "stderr",
     "output_type": "stream",
     "text": [
      "The following columns in the evaluation set  don't have a corresponding argument in `BertForMaskedLM.forward` and have been ignored: sentence, sequence.\n",
      "***** Running Evaluation *****\n",
      "  Num examples = 7540\n",
      "  Batch size = 8\n"
     ]
    },
    {
     "data": {
      "text/html": [
       "\n",
       "    <div>\n",
       "      \n",
       "      <progress value='943' max='943' style='width:300px; height:20px; vertical-align: middle;'></progress>\n",
       "      [943/943 01:50]\n",
       "    </div>\n",
       "    "
      ],
      "text/plain": [
       "<IPython.core.display.HTML object>"
      ]
     },
     "metadata": {},
     "output_type": "display_data"
    },
    {
     "data": {
      "text/plain": [
       "{'eval_loss': 0.36859986186027527,\n",
       " 'eval_runtime': 110.6004,\n",
       " 'eval_samples_per_second': 68.173,\n",
       " 'eval_steps_per_second': 8.526}"
      ]
     },
     "execution_count": 21,
     "metadata": {},
     "output_type": "execute_result"
    }
   ],
   "source": [
    "hivbert_trainer.evaluate()"
   ]
  },
  {
   "cell_type": "code",
   "execution_count": 22,
   "id": "6af7fb59-f5be-47a0-8aa9-47f5b19a822c",
   "metadata": {},
   "outputs": [
    {
     "data": {
      "text/plain": [
       "(0.1572371663136276, 0.697676326071031)"
      ]
     },
     "execution_count": 22,
     "metadata": {},
     "output_type": "execute_result"
    }
   ],
   "source": [
    "np.exp(-1.85), np.exp(-0.36)"
   ]
  }
 ],
 "metadata": {
  "kernelspec": {
   "display_name": "Python [conda env:conda-envs-ai-tools]",
   "language": "python",
   "name": "conda-env-conda-envs-ai-tools-py"
  },
  "language_info": {
   "codemirror_mode": {
    "name": "ipython",
    "version": 3
   },
   "file_extension": ".py",
   "mimetype": "text/x-python",
   "name": "python",
   "nbconvert_exporter": "python",
   "pygments_lexer": "ipython3",
   "version": "3.9.7"
  }
 },
 "nbformat": 4,
 "nbformat_minor": 5
}
